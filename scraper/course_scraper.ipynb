{
 "cells": [
  {
   "cell_type": "code",
   "execution_count": 1,
   "id": "175a9f8a-0140-4fb4-bba0-df3a588dd0b7",
   "metadata": {},
   "outputs": [],
   "source": [
    "import time\n",
    "from selenium import webdriver\n",
    "from selenium.webdriver.chrome.service import Service\n",
    "from selenium.webdriver.chrome.options import Options\n",
    "from selenium.webdriver.common.by import By\n",
    "from bs4 import BeautifulSoup\n",
    "\n",
    "WAIT_TIME = 10"
   ]
  },
  {
   "cell_type": "code",
   "execution_count": 2,
   "id": "32194819-b107-4655-9219-9be8829e439a",
   "metadata": {},
   "outputs": [],
   "source": [
    "# Create Chrome options object\n",
    "chrome_options = Options()\n",
    "\n",
    "# Set a custom User-Agent (You can replace it with any standard browser's User-Agent)\n",
    "\n",
    "# Set a custom User-Agent string (updated version)\n",
    "chrome_options.add_argument(\"--user-agent=Mozilla/5.0 (Windows NT 10.0; Win64; x64) AppleWebKit/537.36 (KHTML, like Gecko) Chrome/110.0.5481.100 Safari/537.36 Edge/110.0.1587.57\")\n",
    "\n",
    "# Disable Selenium-related detection\n",
    "chrome_options.add_argument(\"--disable-blink-features=AutomationControlled\")\n",
    "\n",
    "# Specify the path to chromedriver.exe using Service\n",
    "service = Service(r\"C:\\chromedriver-win64\\chromedriver.exe\")\n",
    "driver = webdriver.Chrome(service=service)"
   ]
  },
  {
   "cell_type": "code",
   "execution_count": 3,
   "id": "fc728854-9417-43ad-8671-ff37cb6eb351",
   "metadata": {},
   "outputs": [],
   "source": [
    "def get_content(link):\n",
    "    # Open the desired URL\n",
    "    driver.get(link)\n",
    "    time.sleep(WAIT_TIME)\n",
    "\n",
    "    # Smooth scroll down the page gradually\n",
    "    scroll_pause_time = 0.5  # Time to wait between each scroll step\n",
    "    scroll_height = driver.execute_script(\"return document.body.scrollHeight\")\n",
    "    current_scroll_position = 0\n",
    "\n",
    "    for _ in range(7):\n",
    "        driver.execute_script(f\"window.scrollTo(0, {current_scroll_position});\")\n",
    "        current_scroll_position += 500  # Scroll by 500px at a time\n",
    "        time.sleep(scroll_pause_time)  # Pause to create smooth scroll effect\n",
    "\n",
    "    time.sleep(WAIT_TIME)\n",
    "\n",
    "    try:\n",
    "        # Use CSS selector to find the button\n",
    "        more_button = driver.find_element(By.CSS_SELECTOR, \"button[data-purpose='show-more']\")\n",
    "\n",
    "        # Scroll the button into view and click it using JavaScript\n",
    "        driver.execute_script(\"arguments[0].scrollIntoView(true);\", more_button)\n",
    "        driver.execute_script(\"arguments[0].click();\", more_button)\n",
    "\n",
    "        time.sleep(WAIT_TIME)  # Wait for the content to load after clicking\n",
    "    except:\n",
    "        print(\"No 'More Sections' button found or already clicked.\")\n",
    "\n",
    "    time.sleep(WAIT_TIME)\n",
    "    html_content = driver.page_source\n",
    "    driver.quit()\n",
    "    return html_content"
   ]
  },
  {
   "cell_type": "code",
   "execution_count": 4,
   "id": "a41d5863-a90b-4f6c-a8e3-9eae29df460e",
   "metadata": {},
   "outputs": [],
   "source": [
    "def extract_details(html_content, filename):\n",
    "    # Parse the content with BeautifulSoup\n",
    "    soup = BeautifulSoup(html_content, 'html.parser')\n",
    "\n",
    "    spans = soup.find_all('span', class_='section--item-title--EWIuI')\n",
    "\n",
    "    # Open the file in write mode\n",
    "    with open(filename, 'w') as file:\n",
    "        # Write the text inside each <span> tag to the file\n",
    "        for span in spans:\n",
    "            file.write(span.get_text() + '\\n')"
   ]
  },
  {
   "cell_type": "code",
   "execution_count": 5,
   "id": "42a2395d-b756-4152-9947-1faed24a27ac",
   "metadata": {},
   "outputs": [
    {
     "name": "stdout",
     "output_type": "stream",
     "text": [
      "No 'More Sections' button found or already clicked.\n"
     ]
    }
   ],
   "source": [
    "links = [\"https://www.udemy.com/course/sql-essentials-thinking-in-sql/\"]\n",
    "i=0\n",
    "\n",
    "for link in links:\n",
    "    html_content = get_content(link)\n",
    "    extract_details(html_content,  f\"{i}.txt\")\n",
    "    i += 1"
   ]
  },
  {
   "cell_type": "code",
   "execution_count": null,
   "id": "aa584c48-9bba-414b-9191-916e52b656a8",
   "metadata": {},
   "outputs": [],
   "source": []
  },
  {
   "cell_type": "code",
   "execution_count": null,
   "id": "add85871-1cb4-46de-93fb-10be4dc9be53",
   "metadata": {},
   "outputs": [],
   "source": []
  }
 ],
 "metadata": {
  "kernelspec": {
   "display_name": "Python 3 (ipykernel)",
   "language": "python",
   "name": "python3"
  },
  "language_info": {
   "codemirror_mode": {
    "name": "ipython",
    "version": 3
   },
   "file_extension": ".py",
   "mimetype": "text/x-python",
   "name": "python",
   "nbconvert_exporter": "python",
   "pygments_lexer": "ipython3",
   "version": "3.12.8"
  }
 },
 "nbformat": 4,
 "nbformat_minor": 5
}
